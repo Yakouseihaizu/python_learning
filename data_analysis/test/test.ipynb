{
 "cells": [
  {
   "cell_type": "code",
   "execution_count": 63,
   "metadata": {},
   "outputs": [],
   "source": [
    "import pandas as pd\n",
    "import requests as req\n",
    "import json"
   ]
  },
  {
   "cell_type": "code",
   "execution_count": 64,
   "metadata": {},
   "outputs": [],
   "source": [
    "hz_code = 101210101\n",
    "hz_re_weather = req.get('http://t.weather.sojson.com/api/weather/city/'+str(hz_code))"
   ]
  },
  {
   "cell_type": "code",
   "execution_count": 65,
   "metadata": {},
   "outputs": [],
   "source": [
    "hz_data = json.loads(hz_re_weather.text)"
   ]
  },
  {
   "cell_type": "code",
   "execution_count": 66,
   "metadata": {},
   "outputs": [
    {
     "data": {
      "text/plain": [
       "{'city': '杭州市', 'citykey': '101210101', 'parent': '浙江', 'updateTime': '17:01'}"
      ]
     },
     "execution_count": 66,
     "metadata": {},
     "output_type": "execute_result"
    }
   ],
   "source": [
    "hz_data['cityInfo']"
   ]
  },
  {
   "cell_type": "code",
   "execution_count": 67,
   "metadata": {},
   "outputs": [],
   "source": [
    "forecast = hz_data['data']['forecast']"
   ]
  },
  {
   "cell_type": "code",
   "execution_count": 71,
   "metadata": {},
   "outputs": [
    {
     "data": {
      "text/plain": [
       "[{'date': '14',\n",
       "  'high': '高温 25℃',\n",
       "  'low': '低温 11℃',\n",
       "  'ymd': '2023-12-14',\n",
       "  'week': '星期四',\n",
       "  'sunrise': '06:47',\n",
       "  'sunset': '17:00',\n",
       "  'aqi': 46,\n",
       "  'fx': '西南风',\n",
       "  'fl': '1级',\n",
       "  'type': '晴',\n",
       "  'notice': '愿你拥有比阳光明媚的心情'},\n",
       " {'date': '15',\n",
       "  'high': '高温 17℃',\n",
       "  'low': '低温 5℃',\n",
       "  'ymd': '2023-12-15',\n",
       "  'week': '星期五',\n",
       "  'sunrise': '06:48',\n",
       "  'sunset': '17:00',\n",
       "  'aqi': 39,\n",
       "  'fx': '北风',\n",
       "  'fl': '3级',\n",
       "  'type': '大雨',\n",
       "  'notice': '出门最好穿雨衣，勿挡视线'},\n",
       " {'date': '16',\n",
       "  'high': '高温 4℃',\n",
       "  'low': '低温 1℃',\n",
       "  'ymd': '2023-12-16',\n",
       "  'week': '星期六',\n",
       "  'sunrise': '06:49',\n",
       "  'sunset': '17:00',\n",
       "  'aqi': 49,\n",
       "  'fx': '西北风',\n",
       "  'fl': '4级',\n",
       "  'type': '多云',\n",
       "  'notice': '阴晴之间，谨防紫外线侵扰'},\n",
       " {'date': '17',\n",
       "  'high': '高温 3℃',\n",
       "  'low': '低温 -1℃',\n",
       "  'ymd': '2023-12-17',\n",
       "  'week': '星期日',\n",
       "  'sunrise': '06:49',\n",
       "  'sunset': '17:01',\n",
       "  'aqi': 65,\n",
       "  'fx': '北风',\n",
       "  'fl': '3级',\n",
       "  'type': '多云',\n",
       "  'notice': '阴晴之间，谨防紫外线侵扰'},\n",
       " {'date': '18',\n",
       "  'high': '高温 3℃',\n",
       "  'low': '低温 1℃',\n",
       "  'ymd': '2023-12-18',\n",
       "  'week': '星期一',\n",
       "  'sunrise': '06:50',\n",
       "  'sunset': '17:01',\n",
       "  'aqi': 60,\n",
       "  'fx': '西北风',\n",
       "  'fl': '2级',\n",
       "  'type': '中雨',\n",
       "  'notice': '记得随身携带雨伞哦'},\n",
       " {'date': '19',\n",
       "  'high': '高温 4℃',\n",
       "  'low': '低温 1℃',\n",
       "  'ymd': '2023-12-19',\n",
       "  'week': '星期二',\n",
       "  'sunrise': '06:50',\n",
       "  'sunset': '17:02',\n",
       "  'aqi': 51,\n",
       "  'fx': '西北风',\n",
       "  'fl': '3级',\n",
       "  'type': '阴',\n",
       "  'notice': '不要被阴云遮挡住好心情'},\n",
       " {'date': '20',\n",
       "  'high': '高温 2℃',\n",
       "  'low': '低温 -2℃',\n",
       "  'ymd': '2023-12-20',\n",
       "  'week': '星期三',\n",
       "  'sunrise': '06:51',\n",
       "  'sunset': '17:02',\n",
       "  'aqi': 48,\n",
       "  'fx': '西北风',\n",
       "  'fl': '4级',\n",
       "  'type': '多云',\n",
       "  'notice': '阴晴之间，谨防紫外线侵扰'},\n",
       " {'date': '21',\n",
       "  'high': '高温 1℃',\n",
       "  'low': '低温 -3℃',\n",
       "  'ymd': '2023-12-21',\n",
       "  'week': '星期四',\n",
       "  'sunrise': '06:51',\n",
       "  'sunset': '17:03',\n",
       "  'aqi': 56,\n",
       "  'fx': '北风',\n",
       "  'fl': '3级',\n",
       "  'type': '晴',\n",
       "  'notice': '愿你拥有比阳光明媚的心情'},\n",
       " {'date': '22',\n",
       "  'high': '高温 4℃',\n",
       "  'low': '低温 -2℃',\n",
       "  'ymd': '2023-12-22',\n",
       "  'week': '星期五',\n",
       "  'sunrise': '06:52',\n",
       "  'sunset': '17:03',\n",
       "  'aqi': 57,\n",
       "  'fx': '北风',\n",
       "  'fl': '2级',\n",
       "  'type': '晴',\n",
       "  'notice': '愿你拥有比阳光明媚的心情'},\n",
       " {'date': '23',\n",
       "  'high': '高温 7℃',\n",
       "  'low': '低温 -1℃',\n",
       "  'ymd': '2023-12-23',\n",
       "  'week': '星期六',\n",
       "  'sunrise': '06:52',\n",
       "  'sunset': '17:04',\n",
       "  'aqi': 59,\n",
       "  'fx': '东南风',\n",
       "  'fl': '1级',\n",
       "  'type': '晴',\n",
       "  'notice': '愿你拥有比阳光明媚的心情'},\n",
       " {'date': '24',\n",
       "  'high': '高温 10℃',\n",
       "  'low': '低温 2℃',\n",
       "  'ymd': '2023-12-24',\n",
       "  'week': '星期日',\n",
       "  'sunrise': '06:53',\n",
       "  'sunset': '17:04',\n",
       "  'aqi': 56,\n",
       "  'fx': '西南风',\n",
       "  'fl': '1级',\n",
       "  'type': '阴',\n",
       "  'notice': '不要被阴云遮挡住好心情'},\n",
       " {'date': '25',\n",
       "  'high': '高温 12℃',\n",
       "  'low': '低温 4℃',\n",
       "  'ymd': '2023-12-25',\n",
       "  'week': '星期一',\n",
       "  'sunrise': '06:53',\n",
       "  'sunset': '17:05',\n",
       "  'aqi': 54,\n",
       "  'fx': '南风',\n",
       "  'fl': '1级',\n",
       "  'type': '晴',\n",
       "  'notice': '愿你拥有比阳光明媚的心情'},\n",
       " {'date': '26',\n",
       "  'high': '高温 9℃',\n",
       "  'low': '低温 2℃',\n",
       "  'ymd': '2023-12-26',\n",
       "  'week': '星期二',\n",
       "  'sunrise': '06:54',\n",
       "  'sunset': '17:05',\n",
       "  'aqi': 44,\n",
       "  'fx': '西北风',\n",
       "  'fl': '3级',\n",
       "  'type': '阴',\n",
       "  'notice': '不要被阴云遮挡住好心情'},\n",
       " {'date': '27',\n",
       "  'high': '高温 4℃',\n",
       "  'low': '低温 0℃',\n",
       "  'ymd': '2023-12-27',\n",
       "  'week': '星期三',\n",
       "  'sunrise': '06:54',\n",
       "  'sunset': '17:06',\n",
       "  'aqi': 41,\n",
       "  'fx': '西北风',\n",
       "  'fl': '3级',\n",
       "  'type': '晴',\n",
       "  'notice': '愿你拥有比阳光明媚的心情'},\n",
       " {'date': '28',\n",
       "  'high': '高温 8℃',\n",
       "  'low': '低温 1℃',\n",
       "  'ymd': '2023-12-28',\n",
       "  'week': '星期四',\n",
       "  'sunrise': '06:54',\n",
       "  'sunset': '17:06',\n",
       "  'aqi': 57,\n",
       "  'fx': '西南风',\n",
       "  'fl': '2级',\n",
       "  'type': '晴',\n",
       "  'notice': '愿你拥有比阳光明媚的心情'}]"
      ]
     },
     "execution_count": 71,
     "metadata": {},
     "output_type": "execute_result"
    }
   ],
   "source": [
    "forecast"
   ]
  },
  {
   "cell_type": "code",
   "execution_count": 72,
   "metadata": {},
   "outputs": [],
   "source": [
    "df = pd.DataFrame(forecast)"
   ]
  },
  {
   "cell_type": "code",
   "execution_count": 73,
   "metadata": {},
   "outputs": [],
   "source": [
    "aqi = df['aqi']"
   ]
  },
  {
   "cell_type": "code",
   "execution_count": 74,
   "metadata": {},
   "outputs": [
    {
     "name": "stdout",
     "output_type": "stream",
     "text": [
      "var     : 55.98\n",
      "mean    : 52.13\n",
      "std     : 7.48\n"
     ]
    }
   ],
   "source": [
    "print(\"var     : {0:.2f}\".format(aqi.var()))\n",
    "print(\"mean    : {0:.2f}\".format(aqi.mean()))\n",
    "print(\"std     : {0:.2f}\".format(aqi.std()))"
   ]
  },
  {
   "cell_type": "code",
   "execution_count": 75,
   "metadata": {},
   "outputs": [
    {
     "data": {
      "text/plain": [
       "52.13333333333333"
      ]
     },
     "execution_count": 75,
     "metadata": {},
     "output_type": "execute_result"
    }
   ],
   "source": [
    "aqi.mean()"
   ]
  },
  {
   "cell_type": "code",
   "execution_count": 77,
   "metadata": {},
   "outputs": [
    {
     "data": {
      "text/plain": [
       "15"
      ]
     },
     "execution_count": 77,
     "metadata": {},
     "output_type": "execute_result"
    }
   ],
   "source": [
    "len(aqi)"
   ]
  },
  {
   "cell_type": "code",
   "execution_count": 3,
   "metadata": {},
   "outputs": [],
   "source": [
    "import numpy as np\n",
    "import pandas as pd"
   ]
  },
  {
   "cell_type": "code",
   "execution_count": 35,
   "metadata": {},
   "outputs": [],
   "source": [
    "data = pd.DataFrame(np.zeros((100000,4)),)"
   ]
  },
  {
   "cell_type": "code",
   "execution_count": 36,
   "metadata": {},
   "outputs": [],
   "source": [
    "def chose_lec(x):\n",
    "        return pd.Series(np.random.random_integers(1,3,4))"
   ]
  },
  {
   "cell_type": "code",
   "execution_count": 37,
   "metadata": {},
   "outputs": [
    {
     "name": "stderr",
     "output_type": "stream",
     "text": [
      "C:\\Users\\HUAWEI\\AppData\\Local\\Temp\\ipykernel_23520\\4219066047.py:2: DeprecationWarning: This function is deprecated. Please call randint(1, 3 + 1) instead\n",
      "  return pd.Series(np.random.random_integers(1,3,4))\n"
     ]
    }
   ],
   "source": [
    "data = data.apply(chose_lec,axis=1)\n",
    "data.columns=['A','B','C','D']"
   ]
  },
  {
   "cell_type": "code",
   "execution_count": 61,
   "metadata": {},
   "outputs": [],
   "source": [
    "def anna(x):\n",
    "    return 3-len(x.value_counts())\n",
    "result = data.apply(anna,axis=1)"
   ]
  },
  {
   "cell_type": "code",
   "execution_count": 70,
   "metadata": {},
   "outputs": [
    {
     "data": {
      "text/plain": [
       "55.935"
      ]
     },
     "execution_count": 70,
     "metadata": {},
     "output_type": "execute_result"
    }
   ],
   "source": [
    "len(data[result>=1])/100000*100"
   ]
  },
  {
   "cell_type": "code",
   "execution_count": 72,
   "metadata": {},
   "outputs": [
    {
     "data": {
      "text/plain": [
       "102.114"
      ]
     },
     "execution_count": 72,
     "metadata": {},
     "output_type": "execute_result"
    }
   ],
   "source": [
    "len(data[result==2])/100000*100"
   ]
  },
  {
   "cell_type": "code",
   "execution_count": 79,
   "metadata": {},
   "outputs": [],
   "source": [
    "G1 = np.zeros((7,7))"
   ]
  },
  {
   "cell_type": "code",
   "execution_count": 80,
   "metadata": {},
   "outputs": [],
   "source": [
    "poss = [[0,1],[0,2],[1,2],\n",
    "        [2,3],[2,5],[3,4],\n",
    "        [3,5],[5,6]]\n",
    "for pos in poss:\n",
    "    # print(pos)\n",
    "    G1[pos[0],pos[1]] = 1\n"
   ]
  },
  {
   "cell_type": "code",
   "execution_count": 81,
   "metadata": {},
   "outputs": [
    {
     "data": {
      "text/plain": [
       "array([[0., 1., 1., 0., 0., 0., 0.],\n",
       "       [0., 0., 1., 0., 0., 0., 0.],\n",
       "       [0., 0., 0., 1., 0., 1., 0.],\n",
       "       [0., 0., 0., 0., 1., 1., 0.],\n",
       "       [0., 0., 0., 0., 0., 0., 0.],\n",
       "       [0., 0., 0., 0., 0., 0., 1.],\n",
       "       [0., 0., 0., 0., 0., 0., 0.]])"
      ]
     },
     "execution_count": 81,
     "metadata": {},
     "output_type": "execute_result"
    }
   ],
   "source": [
    "G1"
   ]
  },
  {
   "cell_type": "code",
   "execution_count": 82,
   "metadata": {},
   "outputs": [],
   "source": [
    "FG1 = G1+G1.T"
   ]
  },
  {
   "cell_type": "code",
   "execution_count": 83,
   "metadata": {},
   "outputs": [
    {
     "data": {
      "text/plain": [
       "array([[0., 1., 1., 0., 0., 0., 0.],\n",
       "       [1., 0., 1., 0., 0., 0., 0.],\n",
       "       [1., 1., 0., 1., 0., 1., 0.],\n",
       "       [0., 0., 1., 0., 1., 1., 0.],\n",
       "       [0., 0., 0., 1., 0., 0., 0.],\n",
       "       [0., 0., 1., 1., 0., 0., 1.],\n",
       "       [0., 0., 0., 0., 0., 1., 0.]])"
      ]
     },
     "execution_count": 83,
     "metadata": {},
     "output_type": "execute_result"
    }
   ],
   "source": [
    "FG1"
   ]
  },
  {
   "cell_type": "code",
   "execution_count": 88,
   "metadata": {},
   "outputs": [
    {
     "data": {
      "text/plain": [
       "array([[2., 3., 5., 2., 1., 2., 1.],\n",
       "       [3., 2., 5., 2., 1., 2., 1.],\n",
       "       [5., 5., 4., 6., 1., 6., 1.],\n",
       "       [2., 2., 6., 2., 3., 5., 1.],\n",
       "       [1., 1., 1., 3., 0., 1., 1.],\n",
       "       [2., 2., 6., 5., 1., 2., 3.],\n",
       "       [1., 1., 1., 1., 1., 3., 0.]])"
      ]
     },
     "execution_count": 88,
     "metadata": {},
     "output_type": "execute_result"
    }
   ],
   "source": [
    "FG1.dot(FG1).dot(FG1)"
   ]
  },
  {
   "cell_type": "code",
   "execution_count": 89,
   "metadata": {},
   "outputs": [],
   "source": [
    "G1 = np.zeros((6,6))"
   ]
  },
  {
   "cell_type": "code",
   "execution_count": 104,
   "metadata": {},
   "outputs": [
    {
     "data": {
      "text/plain": [
       "array([[ 0.,  4.,  2.,  0.,  0.,  0.],\n",
       "       [ 0.,  0.,  1.,  5.,  0.,  0.],\n",
       "       [ 0.,  0.,  0.,  8., 10.,  0.],\n",
       "       [ 0.,  0.,  0.,  0.,  2.,  6.],\n",
       "       [ 0.,  0.,  0.,  0.,  0.,  3.],\n",
       "       [ 0.,  0.,  0.,  0.,  0.,  0.]])"
      ]
     },
     "execution_count": 104,
     "metadata": {},
     "output_type": "execute_result"
    }
   ],
   "source": [
    "G1"
   ]
  },
  {
   "cell_type": "code",
   "execution_count": 105,
   "metadata": {},
   "outputs": [],
   "source": [
    "G1[0,1] = 4\n",
    "G1[0,2] = 2\n",
    "G1[1,2] = 1\n",
    "G1[1,3] = 5\n",
    "G1[2,3] = 8\n",
    "G1[2,4] = 10\n",
    "G1[3,4] = 2\n",
    "G1[3,5] = 6\n",
    "G1[4,5] = 3"
   ]
  },
  {
   "cell_type": "code",
   "execution_count": 106,
   "metadata": {},
   "outputs": [
    {
     "data": {
      "text/plain": [
       "array([[ 0.,  4.,  2.,  0.,  0.,  0.],\n",
       "       [ 0.,  0.,  1.,  5.,  0.,  0.],\n",
       "       [ 0.,  0.,  0.,  8., 10.,  0.],\n",
       "       [ 0.,  0.,  0.,  0.,  2.,  6.],\n",
       "       [ 0.,  0.,  0.,  0.,  0.,  3.],\n",
       "       [ 0.,  0.,  0.,  0.,  0.,  0.]])"
      ]
     },
     "execution_count": 106,
     "metadata": {},
     "output_type": "execute_result"
    }
   ],
   "source": [
    "G1"
   ]
  },
  {
   "cell_type": "code",
   "execution_count": 107,
   "metadata": {},
   "outputs": [],
   "source": [
    "PG1 = G1+G1.T"
   ]
  },
  {
   "cell_type": "code",
   "execution_count": 108,
   "metadata": {},
   "outputs": [
    {
     "data": {
      "text/plain": [
       "array([[ 0.,  4.,  2.,  0.,  0.,  0.],\n",
       "       [ 4.,  0.,  1.,  5.,  0.,  0.],\n",
       "       [ 2.,  1.,  0.,  8., 10.,  0.],\n",
       "       [ 0.,  5.,  8.,  0.,  2.,  6.],\n",
       "       [ 0.,  0., 10.,  2.,  0.,  3.],\n",
       "       [ 0.,  0.,  0.,  6.,  3.,  0.]])"
      ]
     },
     "execution_count": 108,
     "metadata": {},
     "output_type": "execute_result"
    }
   ],
   "source": [
    "PG1"
   ]
  },
  {
   "cell_type": "code",
   "execution_count": 109,
   "metadata": {},
   "outputs": [],
   "source": [
    "PG1[PG1==0] = np.inf"
   ]
  },
  {
   "cell_type": "code",
   "execution_count": 111,
   "metadata": {},
   "outputs": [],
   "source": [
    "for i in range(6):\n",
    "    PG1[i,i] = 0"
   ]
  },
  {
   "cell_type": "code",
   "execution_count": 112,
   "metadata": {},
   "outputs": [
    {
     "data": {
      "text/plain": [
       "array([[ 0.,  4.,  2., inf, inf, inf],\n",
       "       [ 4.,  0.,  1.,  5., inf, inf],\n",
       "       [ 2.,  1.,  0.,  8., 10., inf],\n",
       "       [inf,  5.,  8.,  0.,  2.,  6.],\n",
       "       [inf, inf, 10.,  2.,  0.,  3.],\n",
       "       [inf, inf, inf,  6.,  3.,  0.]])"
      ]
     },
     "execution_count": 112,
     "metadata": {},
     "output_type": "execute_result"
    }
   ],
   "source": [
    "PG1"
   ]
  },
  {
   "cell_type": "code",
   "execution_count": 115,
   "metadata": {},
   "outputs": [],
   "source": [
    "for i in range(6):\n",
    "    for j in range(6):\n",
    "        for k in range(6):\n",
    "            if PG1[j,i]+PG1[i,k]<PG1[j,k]:\n",
    "                PG1[j,k] = PG1[j,i]+PG1[i,k]"
   ]
  },
  {
   "cell_type": "code",
   "execution_count": 116,
   "metadata": {},
   "outputs": [
    {
     "data": {
      "text/plain": [
       "array([[ 0.,  3.,  2.,  8., 10., 13.],\n",
       "       [ 3.,  0.,  1.,  5.,  7., 10.],\n",
       "       [ 2.,  1.,  0.,  6.,  8., 11.],\n",
       "       [ 8.,  5.,  6.,  0.,  2.,  5.],\n",
       "       [10.,  7.,  8.,  2.,  0.,  3.],\n",
       "       [13., 10., 11.,  5.,  3.,  0.]])"
      ]
     },
     "execution_count": 116,
     "metadata": {},
     "output_type": "execute_result"
    }
   ],
   "source": [
    "PG1"
   ]
  },
  {
   "cell_type": "code",
   "execution_count": 2,
   "metadata": {},
   "outputs": [],
   "source": [
    "import sympy"
   ]
  },
  {
   "cell_type": "code",
   "execution_count": 3,
   "metadata": {},
   "outputs": [],
   "source": [
    "x = sympy.symbols('x')"
   ]
  },
  {
   "cell_type": "code",
   "execution_count": 4,
   "metadata": {},
   "outputs": [],
   "source": [
    "exp = 1/(1-4*x)-1-4*x+6*(1/(1-x)-1-x) + 20 + 60*x"
   ]
  },
  {
   "cell_type": "code",
   "execution_count": 5,
   "metadata": {},
   "outputs": [],
   "source": [
    "G = sympy.symbols('G')"
   ]
  },
  {
   "cell_type": "markdown",
   "metadata": {},
   "source": []
  },
  {
   "cell_type": "code",
   "execution_count": 6,
   "metadata": {},
   "outputs": [],
   "source": [
    "eq = 2*x*(G-20)+3*x**2*G+1/(1-4*x) - 1 -4*x +6/(1-x)-6-6*x - G + 20 + 60*x"
   ]
  },
  {
   "cell_type": "code",
   "execution_count": 8,
   "metadata": {},
   "outputs": [],
   "source": [
    "results = sympy.solve(eq,G)"
   ]
  },
  {
   "cell_type": "code",
   "execution_count": 11,
   "metadata": {},
   "outputs": [
    {
     "data": {
      "text/latex": [
       "$\\displaystyle - \\frac{2 \\cdot \\left(20 x^{3} + x^{2} - 40 x + 10\\right)}{\\left(x - 1\\right) \\left(x + 1\\right) \\left(3 x - 1\\right) \\left(4 x - 1\\right)}$"
      ],
      "text/plain": [
       "-2*(20*x**3 + x**2 - 40*x + 10)/((x - 1)*(x + 1)*(3*x - 1)*(4*x - 1))"
      ]
     },
     "execution_count": 11,
     "metadata": {},
     "output_type": "execute_result"
    }
   ],
   "source": [
    "results[0].factor()"
   ]
  },
  {
   "cell_type": "code",
   "execution_count": 14,
   "metadata": {},
   "outputs": [
    {
     "data": {
      "text/plain": [
       "540"
      ]
     },
     "execution_count": 14,
     "metadata": {},
     "output_type": "execute_result"
    }
   ],
   "source": [
    "3**6-(3*2**6-3)"
   ]
  },
  {
   "cell_type": "code",
   "execution_count": 35,
   "metadata": {},
   "outputs": [],
   "source": [
    "import numpy as np"
   ]
  },
  {
   "cell_type": "code",
   "execution_count": 82,
   "metadata": {},
   "outputs": [],
   "source": [
    "data = np.zeros((5,5))"
   ]
  },
  {
   "cell_type": "code",
   "execution_count": 83,
   "metadata": {},
   "outputs": [],
   "source": [
    "pos = [(0,0),(0,1),(1,3),(2,4),(3,1)]"
   ]
  },
  {
   "cell_type": "code",
   "execution_count": 84,
   "metadata": {},
   "outputs": [],
   "source": [
    "for p in pos:\n",
    "    data[p] = 1"
   ]
  },
  {
   "cell_type": "code",
   "execution_count": 85,
   "metadata": {},
   "outputs": [
    {
     "data": {
      "text/plain": [
       "array([[1., 1., 0., 0., 0.],\n",
       "       [0., 0., 0., 1., 0.],\n",
       "       [0., 0., 0., 0., 1.],\n",
       "       [0., 1., 0., 0., 0.],\n",
       "       [0., 0., 0., 0., 0.]])"
      ]
     },
     "execution_count": 85,
     "metadata": {},
     "output_type": "execute_result"
    }
   ],
   "source": [
    "data"
   ]
  },
  {
   "cell_type": "code",
   "execution_count": 86,
   "metadata": {},
   "outputs": [
    {
     "name": "stdout",
     "output_type": "stream",
     "text": [
      "[[1. 1. 0. 1. 0.]\n",
      " [0. 1. 0. 1. 0.]\n",
      " [0. 0. 0. 0. 1.]\n",
      " [0. 1. 0. 1. 0.]\n",
      " [0. 0. 0. 0. 0.]]\n"
     ]
    }
   ],
   "source": [
    "# 沃舍尔算法\n",
    "for i in range(len(data)):\n",
    "    for j in range(len(data)):\n",
    "        for k in range(len(data)):\n",
    "            if j!=i and k!=i:\n",
    "                data[j,k] = int(data[j,k] or data[i,k]*data[j,i])\n",
    "print(data)"
   ]
  },
  {
   "cell_type": "code",
   "execution_count": 87,
   "metadata": {},
   "outputs": [
    {
     "data": {
      "text/plain": [
       "1"
      ]
     },
     "execution_count": 87,
     "metadata": {},
     "output_type": "execute_result"
    }
   ],
   "source": [
    "int(True)"
   ]
  },
  {
   "cell_type": "code",
   "execution_count": null,
   "metadata": {},
   "outputs": [],
   "source": []
  }
 ],
 "metadata": {
  "kernelspec": {
   "display_name": "Python 3 (ipykernel)",
   "language": "python",
   "name": "python3"
  },
  "language_info": {
   "codemirror_mode": {
    "name": "ipython",
    "version": 3
   },
   "file_extension": ".py",
   "mimetype": "text/x-python",
   "name": "python",
   "nbconvert_exporter": "python",
   "pygments_lexer": "ipython3",
   "version": "3.11.4"
  }
 },
 "nbformat": 4,
 "nbformat_minor": 2
}
